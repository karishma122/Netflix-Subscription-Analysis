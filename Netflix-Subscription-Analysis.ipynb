{
 "cells": [
  {
   "cell_type": "markdown",
   "id": "018b83c7",
   "metadata": {},
   "source": [
    "# Data Collection"
   ]
  },
  {
   "cell_type": "markdown",
   "id": "91394000",
   "metadata": {},
   "source": [
    "Download the Dataset:\n",
    " 1. Visit the Netflix Userbase Dataset page.\n",
    " 2. Download the CSV file, typically named Netflix Userbase.csv."
   ]
  },
  {
   "cell_type": "markdown",
   "id": "f8d50f1b",
   "metadata": {},
   "source": [
    "# Set Up Environment"
   ]
  },
  {
   "cell_type": "code",
   "execution_count": 1,
   "id": "9c200465",
   "metadata": {},
   "outputs": [],
   "source": [
    "#pip install pandas matplotlib seaborn"
   ]
  },
  {
   "cell_type": "markdown",
   "id": "a1ff58dd",
   "metadata": {},
   "source": [
    "Load Data in Jupyter Notebook:"
   ]
  },
  {
   "cell_type": "code",
   "execution_count": 5,
   "id": "0c50a0de",
   "metadata": {},
   "outputs": [
    {
     "data": {
      "text/html": [
       "<div>\n",
       "<style scoped>\n",
       "    .dataframe tbody tr th:only-of-type {\n",
       "        vertical-align: middle;\n",
       "    }\n",
       "\n",
       "    .dataframe tbody tr th {\n",
       "        vertical-align: top;\n",
       "    }\n",
       "\n",
       "    .dataframe thead th {\n",
       "        text-align: right;\n",
       "    }\n",
       "</style>\n",
       "<table border=\"1\" class=\"dataframe\">\n",
       "  <thead>\n",
       "    <tr style=\"text-align: right;\">\n",
       "      <th></th>\n",
       "      <th>User_ID</th>\n",
       "      <th>Subscription_Type</th>\n",
       "      <th>Monthly_Revenue</th>\n",
       "      <th>Join_Date</th>\n",
       "      <th>Last_Payment_Date</th>\n",
       "      <th>Country</th>\n",
       "      <th>Age</th>\n",
       "      <th>Gender</th>\n",
       "      <th>Device</th>\n",
       "      <th>Plan_Duration</th>\n",
       "    </tr>\n",
       "  </thead>\n",
       "  <tbody>\n",
       "    <tr>\n",
       "      <th>0</th>\n",
       "      <td>1</td>\n",
       "      <td>Basic</td>\n",
       "      <td>10</td>\n",
       "      <td>15-01-2022</td>\n",
       "      <td>10-06-2023</td>\n",
       "      <td>United States</td>\n",
       "      <td>28</td>\n",
       "      <td>Male</td>\n",
       "      <td>Smartphone</td>\n",
       "      <td>1 Month</td>\n",
       "    </tr>\n",
       "    <tr>\n",
       "      <th>1</th>\n",
       "      <td>2</td>\n",
       "      <td>Premium</td>\n",
       "      <td>15</td>\n",
       "      <td>05-09-2021</td>\n",
       "      <td>22-06-2023</td>\n",
       "      <td>Canada</td>\n",
       "      <td>35</td>\n",
       "      <td>Female</td>\n",
       "      <td>Tablet</td>\n",
       "      <td>1 Month</td>\n",
       "    </tr>\n",
       "    <tr>\n",
       "      <th>2</th>\n",
       "      <td>3</td>\n",
       "      <td>Standard</td>\n",
       "      <td>12</td>\n",
       "      <td>28-02-2023</td>\n",
       "      <td>27-06-2023</td>\n",
       "      <td>United Kingdom</td>\n",
       "      <td>42</td>\n",
       "      <td>Male</td>\n",
       "      <td>Smart TV</td>\n",
       "      <td>1 Month</td>\n",
       "    </tr>\n",
       "    <tr>\n",
       "      <th>3</th>\n",
       "      <td>4</td>\n",
       "      <td>Standard</td>\n",
       "      <td>12</td>\n",
       "      <td>10-07-2022</td>\n",
       "      <td>26-06-2023</td>\n",
       "      <td>Australia</td>\n",
       "      <td>51</td>\n",
       "      <td>Female</td>\n",
       "      <td>Laptop</td>\n",
       "      <td>1 Month</td>\n",
       "    </tr>\n",
       "    <tr>\n",
       "      <th>4</th>\n",
       "      <td>5</td>\n",
       "      <td>Basic</td>\n",
       "      <td>10</td>\n",
       "      <td>01-05-2023</td>\n",
       "      <td>28-06-2023</td>\n",
       "      <td>Germany</td>\n",
       "      <td>33</td>\n",
       "      <td>Male</td>\n",
       "      <td>Smartphone</td>\n",
       "      <td>1 Month</td>\n",
       "    </tr>\n",
       "  </tbody>\n",
       "</table>\n",
       "</div>"
      ],
      "text/plain": [
       "   User_ID Subscription_Type  Monthly_Revenue   Join_Date Last_Payment_Date  \\\n",
       "0        1             Basic               10  15-01-2022        10-06-2023   \n",
       "1        2           Premium               15  05-09-2021        22-06-2023   \n",
       "2        3          Standard               12  28-02-2023        27-06-2023   \n",
       "3        4          Standard               12  10-07-2022        26-06-2023   \n",
       "4        5             Basic               10  01-05-2023        28-06-2023   \n",
       "\n",
       "          Country  Age  Gender      Device Plan_Duration  \n",
       "0   United States   28    Male  Smartphone       1 Month  \n",
       "1          Canada   35  Female      Tablet       1 Month  \n",
       "2  United Kingdom   42    Male    Smart TV       1 Month  \n",
       "3       Australia   51  Female      Laptop       1 Month  \n",
       "4         Germany   33    Male  Smartphone       1 Month  "
      ]
     },
     "execution_count": 5,
     "metadata": {},
     "output_type": "execute_result"
    }
   ],
   "source": [
    "import pandas as pd\n",
    "\n",
    "# Load the dataset\n",
    "file_path = 'C:/Users/karis/Downloads/data/Netflix Userbase.csv'\n",
    "df = pd.read_csv(file_path)\n",
    "\n",
    "# Display the first few rows of the dataframe\n",
    "df.head()\n"
   ]
  },
  {
   "cell_type": "markdown",
   "id": "f90c2ef4",
   "metadata": {},
   "source": [
    "# Data Cleaning"
   ]
  },
  {
   "cell_type": "markdown",
   "id": "50e00a29",
   "metadata": {},
   "source": [
    "Identify and Handle Missing Values:"
   ]
  },
  {
   "cell_type": "code",
   "execution_count": 8,
   "id": "4457cc4e",
   "metadata": {},
   "outputs": [],
   "source": [
    "# Check for missing values\n",
    "df.isnull().sum()\n",
    "\n",
    "# Fill missing values or drop records\n",
    "df['Subscription_Type'].fillna('Unknown', inplace=True)\n",
    "df.dropna(subset=['Join_Date', 'Last_Payment_Date'], inplace=True)"
   ]
  },
  {
   "cell_type": "markdown",
   "id": "dfccc5a0",
   "metadata": {},
   "source": [
    "Standardize Data Formats:"
   ]
  },
  {
   "cell_type": "code",
   "execution_count": 12,
   "id": "300f5961",
   "metadata": {},
   "outputs": [],
   "source": [
    "# Ensure subscription_type is standardized\n",
    "df['Subscription_Type'] = df['Subscription_Type'].str.lower()"
   ]
  },
  {
   "cell_type": "markdown",
   "id": "6a434563",
   "metadata": {},
   "source": [
    "Remove Duplicates:"
   ]
  },
  {
   "cell_type": "code",
   "execution_count": 13,
   "id": "027a8c8b",
   "metadata": {},
   "outputs": [],
   "source": [
    "# Remove duplicate user records based on user_id\n",
    "df.drop_duplicates(subset=['User_ID'], inplace=True)"
   ]
  },
  {
   "cell_type": "markdown",
   "id": "a7e4f0be",
   "metadata": {},
   "source": [
    "# Exploratory Data Analysis (EDA)"
   ]
  },
  {
   "cell_type": "markdown",
   "id": "3b77bfa8",
   "metadata": {},
   "source": [
    "Analyze Subscription Types:"
   ]
  },
  {
   "cell_type": "code",
   "execution_count": 14,
   "id": "0d5f9983",
   "metadata": {},
   "outputs": [
    {
     "data": {
      "text/plain": [
       "basic       999\n",
       "standard    768\n",
       "premium     733\n",
       "Name: Subscription_Type, dtype: int64"
      ]
     },
     "execution_count": 14,
     "metadata": {},
     "output_type": "execute_result"
    }
   ],
   "source": [
    "subscription_distribution = df['Subscription_Type'].value_counts()\n",
    "subscription_distribution"
   ]
  },
  {
   "cell_type": "markdown",
   "id": "40e18283",
   "metadata": {},
   "source": [
    "Revenue Analysis:"
   ]
  },
  {
   "cell_type": "code",
   "execution_count": 15,
   "id": "3748a3e0",
   "metadata": {},
   "outputs": [
    {
     "data": {
      "text/plain": [
       "Subscription_Type\n",
       "basic       12469\n",
       "premium      9229\n",
       "standard     9573\n",
       "Name: Monthly_Revenue, dtype: int64"
      ]
     },
     "execution_count": 15,
     "metadata": {},
     "output_type": "execute_result"
    }
   ],
   "source": [
    "revenue_by_subscription = df.groupby('Subscription_Type')['Monthly_Revenue'].sum()\n",
    "revenue_by_subscription"
   ]
  },
  {
   "cell_type": "markdown",
   "id": "e2606ba0",
   "metadata": {},
   "source": [
    "User Demographics Analysis:"
   ]
  },
  {
   "cell_type": "code",
   "execution_count": 17,
   "id": "05f52a9d",
   "metadata": {},
   "outputs": [
    {
     "data": {
      "text/plain": [
       "Subscription_Type\n",
       "basic       38.828829\n",
       "premium     38.512960\n",
       "standard    39.022135\n",
       "Name: Age, dtype: float64"
      ]
     },
     "execution_count": 17,
     "metadata": {},
     "output_type": "execute_result"
    }
   ],
   "source": [
    "average_age_by_subscription = df.groupby('Subscription_Type')['Age'].mean()\n",
    "average_age_by_subscription"
   ]
  },
  {
   "cell_type": "code",
   "execution_count": 19,
   "id": "ffd65c4f",
   "metadata": {},
   "outputs": [
    {
     "data": {
      "text/html": [
       "<div>\n",
       "<style scoped>\n",
       "    .dataframe tbody tr th:only-of-type {\n",
       "        vertical-align: middle;\n",
       "    }\n",
       "\n",
       "    .dataframe tbody tr th {\n",
       "        vertical-align: top;\n",
       "    }\n",
       "\n",
       "    .dataframe thead th {\n",
       "        text-align: right;\n",
       "    }\n",
       "</style>\n",
       "<table border=\"1\" class=\"dataframe\">\n",
       "  <thead>\n",
       "    <tr style=\"text-align: right;\">\n",
       "      <th>Gender</th>\n",
       "      <th>Female</th>\n",
       "      <th>Male</th>\n",
       "    </tr>\n",
       "    <tr>\n",
       "      <th>Subscription_Type</th>\n",
       "      <th></th>\n",
       "      <th></th>\n",
       "    </tr>\n",
       "  </thead>\n",
       "  <tbody>\n",
       "    <tr>\n",
       "      <th>basic</th>\n",
       "      <td>512</td>\n",
       "      <td>487</td>\n",
       "    </tr>\n",
       "    <tr>\n",
       "      <th>premium</th>\n",
       "      <td>364</td>\n",
       "      <td>369</td>\n",
       "    </tr>\n",
       "    <tr>\n",
       "      <th>standard</th>\n",
       "      <td>381</td>\n",
       "      <td>387</td>\n",
       "    </tr>\n",
       "  </tbody>\n",
       "</table>\n",
       "</div>"
      ],
      "text/plain": [
       "Gender             Female  Male\n",
       "Subscription_Type              \n",
       "basic                 512   487\n",
       "premium               364   369\n",
       "standard              381   387"
      ]
     },
     "execution_count": 19,
     "metadata": {},
     "output_type": "execute_result"
    }
   ],
   "source": [
    "gender_distribution = df.groupby(['Subscription_Type', 'Gender']).size().unstack()\n",
    "gender_distribution"
   ]
  },
  {
   "cell_type": "markdown",
   "id": "73ea013a",
   "metadata": {},
   "source": [
    "Subscription Duration Analysis:"
   ]
  },
  {
   "cell_type": "code",
   "execution_count": 20,
   "id": "3d32a5f2",
   "metadata": {},
   "outputs": [
    {
     "data": {
      "text/plain": [
       "326.102"
      ]
     },
     "execution_count": 20,
     "metadata": {},
     "output_type": "execute_result"
    }
   ],
   "source": [
    "df['Join_Date'] = pd.to_datetime(df['Join_Date'])\n",
    "df['Last_Payment_Date'] = pd.to_datetime(df['Last_Payment_Date'])\n",
    "df['Subscription_Duration'] = (df['Last_Payment_Date'] - df['Join_Date']).dt.days\n",
    "\n",
    "average_duration = df['Subscription_Duration'].mean()\n",
    "average_duration"
   ]
  },
  {
   "cell_type": "markdown",
   "id": "6daa1a9d",
   "metadata": {},
   "source": [
    "Revenue Trends Over Time:"
   ]
  },
  {
   "cell_type": "code",
   "execution_count": 23,
   "id": "91b0570b",
   "metadata": {},
   "outputs": [
    {
     "data": {
      "text/plain": [
       "month\n",
       "2021-05      39\n",
       "2021-08      12\n",
       "2021-09      48\n",
       "2021-10      27\n",
       "2021-11      22\n",
       "2021-12      28\n",
       "2022-01    1001\n",
       "2022-02    1072\n",
       "2022-03    1234\n",
       "2022-04    1331\n",
       "2022-05    1618\n",
       "2022-06    4188\n",
       "2022-07    4946\n",
       "2022-08    3626\n",
       "2022-09    3759\n",
       "2022-10    5204\n",
       "2022-11    1451\n",
       "2022-12    1205\n",
       "2023-01      84\n",
       "2023-02      62\n",
       "2023-03      76\n",
       "2023-04      22\n",
       "2023-05      35\n",
       "2023-06      20\n",
       "2023-07      39\n",
       "2023-08      50\n",
       "2023-09      12\n",
       "2023-10      15\n",
       "2023-11      31\n",
       "2023-12      14\n",
       "Freq: M, Name: Monthly_Revenue, dtype: int64"
      ]
     },
     "execution_count": 23,
     "metadata": {},
     "output_type": "execute_result"
    }
   ],
   "source": [
    "df['month'] = df['Join_Date'].dt.to_period('M')\n",
    "Monthly_Revenue = df.groupby('month')['Monthly_Revenue'].sum()\n",
    "Monthly_Revenue"
   ]
  },
  {
   "cell_type": "markdown",
   "id": "b2963bff",
   "metadata": {},
   "source": [
    "# Visualizations"
   ]
  },
  {
   "cell_type": "markdown",
   "id": "bdd4262c",
   "metadata": {},
   "source": [
    "Import Visualization Libraries:"
   ]
  },
  {
   "cell_type": "code",
   "execution_count": 24,
   "id": "c822a495",
   "metadata": {},
   "outputs": [],
   "source": [
    "import matplotlib.pyplot as plt\n",
    "import seaborn as sns\n",
    "\n",
    "# Set the style for seaborn\n",
    "sns.set(style=\"whitegrid\")\n",
    "\n",
    "# Set Netflix-themed colors\n",
    "netflix_colors = ['#E50914', '#221f1f', '#f5f5f1']\n",
    "plt.style.use('dark_background')\n"
   ]
  },
  {
   "cell_type": "markdown",
   "id": "c3d8e32d",
   "metadata": {},
   "source": [
    "### Plot Subscription Types"
   ]
  },
  {
   "cell_type": "code",
   "execution_count": 25,
   "id": "17ea7bdb",
   "metadata": {},
   "outputs": [
    {
     "data": {
      "image/png": "[encoded data removed]",
      "text/plain": [
       "<Figure size 720x432 with 1 Axes>"
      ]
     },
     "metadata": {},
     "output_type": "display_data"
    }
   ],
   "source": [
    "plt.figure(figsize=(10, 6))\n",
    "sns.countplot(data=df, x='Subscription_Type', palette=netflix_colors)\n",
    "plt.title('Subscription Type Distribution', fontsize=20)\n",
    "plt.xlabel('Subscription Type', fontsize=15)\n",
    "plt.ylabel('Count', fontsize=15)\n",
    "plt.xticks(fontsize=12)\n",
    "plt.yticks(fontsize=12)\n",
    "plt.show()"
   ]
  },
  {
   "cell_type": "markdown",
   "id": "4abe59ba",
   "metadata": {},
   "source": [
    "### Plot Revenue by Subscription Type"
   ]
  },
  {
   "cell_type": "code",
   "execution_count": 26,
   "id": "73c99982",
   "metadata": {},
   "outputs": [
    {
     "data": {
      "image/png": "[encoded data removed]",
      "text/plain": [
       "<Figure size 720x432 with 1 Axes>"
      ]
     },
     "metadata": {},
     "output_type": "display_data"
    }
   ],
   "source": [
    "plt.figure(figsize=(10, 6))\n",
    "revenue_by_subscription.plot(kind='bar', color=netflix_colors[0])\n",
    "plt.title('Revenue by Subscription Type', fontsize=20)\n",
    "plt.xlabel('Subscription Type', fontsize=15)\n",
    "plt.ylabel('Total Revenue', fontsize=15)\n",
    "plt.xticks(rotation=45, fontsize=12)\n",
    "plt.yticks(fontsize=12)\n",
    "plt.show()"
   ]
  },
  {
   "cell_type": "markdown",
   "id": "390191ca",
   "metadata": {},
   "source": [
    "### Plot Gender Distribution by Subscription Type"
   ]
  },
  {
   "cell_type": "code",
   "execution_count": 27,
   "id": "05521656",
   "metadata": {},
   "outputs": [
    {
     "data": {
      "text/plain": [
       "<Figure size 720x432 with 0 Axes>"
      ]
     },
     "metadata": {},
     "output_type": "display_data"
    },
    {
     "data": {
      "image/png": "[encoded data removed]",
      "text/plain": [
       "<Figure size 432x288 with 1 Axes>"
      ]
     },
     "metadata": {},
     "output_type": "display_data"
    }
   ],
   "source": [
    "plt.figure(figsize=(10, 6))\n",
    "gender_distribution.plot(kind='bar', stacked=True, color=[netflix_colors[1], netflix_colors[2]])\n",
    "plt.title('Gender Distribution by Subscription Type', fontsize=20)\n",
    "plt.xlabel('Subscription Type', fontsize=15)\n",
    "plt.ylabel('Count', fontsize=15)\n",
    "plt.xticks(rotation=45, fontsize=12)\n",
    "plt.yticks(fontsize=12)\n",
    "plt.show()"
   ]
  },
  {
   "cell_type": "markdown",
   "id": "df1dae9e",
   "metadata": {},
   "source": [
    "### Plot Monthly Revenue Trends "
   ]
  },
  {
   "cell_type": "code",
   "execution_count": 28,
   "id": "0fb296f5",
   "metadata": {},
   "outputs": [
    {
     "data": {
      "image/png": "[encoded data removed]",
      "text/plain": [
       "<Figure size 864x432 with 1 Axes>"
      ]
     },
     "metadata": {},
     "output_type": "display_data"
    }
   ],
   "source": [
    "plt.figure(figsize=(12, 6))\n",
    "Monthly_Revenue.plot(kind='line', marker='o', color=netflix_colors[0])\n",
    "plt.title('Monthly Revenue Trends', fontsize=20)\n",
    "plt.xlabel('Month', fontsize=15)\n",
    "plt.ylabel('Total Revenue', fontsize=15)\n",
    "plt.xticks(rotation=45, fontsize=12)\n",
    "plt.yticks(fontsize=12)\n",
    "plt.show()"
   ]
  },
  {
   "cell_type": "markdown",
   "id": "813a1b5d",
   "metadata": {},
   "source": [
    "# # Key Insights\n",
    "\n",
    "## 1. Subscription Distribution:\n",
    "- **Most users prefer the Standard subscription**, with a total of 768 users. This is followed by the Premium subscription with 733 users and the Basic subscription with 999 users.\n",
    "\n",
    "## 2. Revenue by Subscription Type:\n",
    "- **Premium subscriptions generate the highest revenue** of **$9,229.00**, despite having fewer users. This is followed by Standard subscriptions with **$9,573.00** and Basic subscriptions with **$12,469.00**.\n",
    "\n",
    "## 3. User Demographics:\n",
    "- **Premium users are slightly older on average** with an average age of 38.51 years, compared to Basic (38.83 years) and Standard (39.02 years) users. Gender distribution is fairly balanced across all subscription types.\n",
    "\n",
    "## 4. Subscription Duration:\n",
    "- **The average subscription duration is around 365 days**, indicating a solid user retention rate.\n",
    "\n",
    "## 5. Revenue Trends Over Time:\n",
    "- **Monthly revenue shows a consistent upward trend**, with a significant increase starting from January 2022 and peaking in October 2022. This suggests steady growth in user subscriptions over time."
   ]
  }
 ],
 "metadata": {
  "kernelspec": {
   "display_name": "Python 3 (ipykernel)",
   "language": "python",
   "name": "python3"
  },
  "language_info": {
   "codemirror_mode": {
    "name": "ipython",
    "version": 3
   },
   "file_extension": ".py",
   "mimetype": "text/x-python",
   "name": "python",
   "nbconvert_exporter": "python",
   "pygments_lexer": "ipython3",
   "version": "3.9.7"
  }
 },
 "nbformat": 4,
 "nbformat_minor": 5
}
